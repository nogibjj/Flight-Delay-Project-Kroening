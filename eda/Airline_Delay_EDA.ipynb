{
 "cells": [
  {
   "cell_type": "markdown",
   "metadata": {},
   "source": [
    "#### This is EDA of a Kaggle dataset called \"USA Airline Delay Cause,\" created by user 'RYANJT.'\n",
    "\n",
    "* The last update to this dataset appears to be in August 2022, initial date of publication unknown.\n",
    "\n",
    "* Sources: https://www.transtats.bts.gov/ot_delay/ot_delaycause1.asp?qv52ynB=qn6n&20=E\n",
    "\n",
    "* Collection Methodology: Bureau of Transportation Statistics, Airline Service Quality Performance 234\n",
    "\n",
    "* The dataset covers the date range of 7/01/03 - 5/01/22.\n",
    "\n",
    "* It is available at: https://www.kaggle.com/datasets/ryanjt/airline-delay-cause"
   ]
  },
  {
   "cell_type": "markdown",
   "metadata": {},
   "source": [
    "First, we'll important necessary packages and ingest the .csv file containing the dataset."
   ]
  },
  {
   "cell_type": "code",
   "execution_count": 14,
   "metadata": {},
   "outputs": [],
   "source": [
    "# import packages\n",
    "import pandas as pd\n",
    "import numpy as np\n",
    "import seaborn as sns\n",
    "import datetime\n",
    "\n",
    "# Read a .csv in with information about airline delays\n",
    "delay_data = pd.read_csv('datasets/Airline_Delay_Cause.csv')"
   ]
  },
  {
   "cell_type": "markdown",
   "metadata": {},
   "source": [
    "Next, we'll gather basic information about this dataset, to include:\n",
    "* Shape\n",
    "* Head observations\n",
    "* Column information\n",
    "* Missing/null values"
   ]
  },
  {
   "cell_type": "code",
   "execution_count": 15,
   "metadata": {},
   "outputs": [
    {
     "data": {
      "text/plain": [
       "(318017, 21)"
      ]
     },
     "execution_count": 15,
     "metadata": {},
     "output_type": "execute_result"
    }
   ],
   "source": [
    "# Shape of delay_data\n",
    "delay_data.shape"
   ]
  },
  {
   "cell_type": "code",
   "execution_count": 16,
   "metadata": {},
   "outputs": [
    {
     "data": {
      "text/html": [
       "<div>\n",
       "<style scoped>\n",
       "    .dataframe tbody tr th:only-of-type {\n",
       "        vertical-align: middle;\n",
       "    }\n",
       "\n",
       "    .dataframe tbody tr th {\n",
       "        vertical-align: top;\n",
       "    }\n",
       "\n",
       "    .dataframe thead th {\n",
       "        text-align: right;\n",
       "    }\n",
       "</style>\n",
       "<table border=\"1\" class=\"dataframe\">\n",
       "  <thead>\n",
       "    <tr style=\"text-align: right;\">\n",
       "      <th></th>\n",
       "      <th>year</th>\n",
       "      <th>month</th>\n",
       "      <th>carrier</th>\n",
       "      <th>carrier_name</th>\n",
       "      <th>airport</th>\n",
       "      <th>airport_name</th>\n",
       "      <th>arr_flights</th>\n",
       "      <th>arr_del15</th>\n",
       "      <th>carrier_ct</th>\n",
       "      <th>weather_ct</th>\n",
       "      <th>...</th>\n",
       "      <th>security_ct</th>\n",
       "      <th>late_aircraft_ct</th>\n",
       "      <th>arr_cancelled</th>\n",
       "      <th>arr_diverted</th>\n",
       "      <th>arr_delay</th>\n",
       "      <th>carrier_delay</th>\n",
       "      <th>weather_delay</th>\n",
       "      <th>nas_delay</th>\n",
       "      <th>security_delay</th>\n",
       "      <th>late_aircraft_delay</th>\n",
       "    </tr>\n",
       "  </thead>\n",
       "  <tbody>\n",
       "    <tr>\n",
       "      <th>0</th>\n",
       "      <td>2022</td>\n",
       "      <td>5</td>\n",
       "      <td>9E</td>\n",
       "      <td>Endeavor Air Inc.</td>\n",
       "      <td>ABE</td>\n",
       "      <td>Allentown/Bethlehem/Easton, PA: Lehigh Valley ...</td>\n",
       "      <td>136.0</td>\n",
       "      <td>7.0</td>\n",
       "      <td>5.95</td>\n",
       "      <td>0.00</td>\n",
       "      <td>...</td>\n",
       "      <td>0.0</td>\n",
       "      <td>1.00</td>\n",
       "      <td>0.0</td>\n",
       "      <td>0.0</td>\n",
       "      <td>255.0</td>\n",
       "      <td>222.0</td>\n",
       "      <td>0.0</td>\n",
       "      <td>4.0</td>\n",
       "      <td>0.0</td>\n",
       "      <td>29.0</td>\n",
       "    </tr>\n",
       "    <tr>\n",
       "      <th>1</th>\n",
       "      <td>2022</td>\n",
       "      <td>5</td>\n",
       "      <td>9E</td>\n",
       "      <td>Endeavor Air Inc.</td>\n",
       "      <td>ABY</td>\n",
       "      <td>Albany, GA: Southwest Georgia Regional</td>\n",
       "      <td>91.0</td>\n",
       "      <td>16.0</td>\n",
       "      <td>7.38</td>\n",
       "      <td>0.00</td>\n",
       "      <td>...</td>\n",
       "      <td>0.0</td>\n",
       "      <td>6.09</td>\n",
       "      <td>0.0</td>\n",
       "      <td>0.0</td>\n",
       "      <td>884.0</td>\n",
       "      <td>351.0</td>\n",
       "      <td>0.0</td>\n",
       "      <td>81.0</td>\n",
       "      <td>0.0</td>\n",
       "      <td>452.0</td>\n",
       "    </tr>\n",
       "    <tr>\n",
       "      <th>2</th>\n",
       "      <td>2022</td>\n",
       "      <td>5</td>\n",
       "      <td>9E</td>\n",
       "      <td>Endeavor Air Inc.</td>\n",
       "      <td>ACK</td>\n",
       "      <td>Nantucket, MA: Nantucket Memorial</td>\n",
       "      <td>19.0</td>\n",
       "      <td>2.0</td>\n",
       "      <td>0.13</td>\n",
       "      <td>0.00</td>\n",
       "      <td>...</td>\n",
       "      <td>0.0</td>\n",
       "      <td>0.88</td>\n",
       "      <td>1.0</td>\n",
       "      <td>0.0</td>\n",
       "      <td>138.0</td>\n",
       "      <td>4.0</td>\n",
       "      <td>0.0</td>\n",
       "      <td>106.0</td>\n",
       "      <td>0.0</td>\n",
       "      <td>28.0</td>\n",
       "    </tr>\n",
       "    <tr>\n",
       "      <th>3</th>\n",
       "      <td>2022</td>\n",
       "      <td>5</td>\n",
       "      <td>9E</td>\n",
       "      <td>Endeavor Air Inc.</td>\n",
       "      <td>AEX</td>\n",
       "      <td>Alexandria, LA: Alexandria International</td>\n",
       "      <td>88.0</td>\n",
       "      <td>14.0</td>\n",
       "      <td>7.26</td>\n",
       "      <td>0.76</td>\n",
       "      <td>...</td>\n",
       "      <td>0.0</td>\n",
       "      <td>1.64</td>\n",
       "      <td>0.0</td>\n",
       "      <td>0.0</td>\n",
       "      <td>947.0</td>\n",
       "      <td>585.0</td>\n",
       "      <td>35.0</td>\n",
       "      <td>125.0</td>\n",
       "      <td>0.0</td>\n",
       "      <td>202.0</td>\n",
       "    </tr>\n",
       "    <tr>\n",
       "      <th>4</th>\n",
       "      <td>2022</td>\n",
       "      <td>5</td>\n",
       "      <td>9E</td>\n",
       "      <td>Endeavor Air Inc.</td>\n",
       "      <td>AGS</td>\n",
       "      <td>Augusta, GA: Augusta Regional at Bush Field</td>\n",
       "      <td>181.0</td>\n",
       "      <td>19.0</td>\n",
       "      <td>13.84</td>\n",
       "      <td>0.00</td>\n",
       "      <td>...</td>\n",
       "      <td>0.0</td>\n",
       "      <td>2.09</td>\n",
       "      <td>0.0</td>\n",
       "      <td>0.0</td>\n",
       "      <td>808.0</td>\n",
       "      <td>662.0</td>\n",
       "      <td>0.0</td>\n",
       "      <td>87.0</td>\n",
       "      <td>0.0</td>\n",
       "      <td>59.0</td>\n",
       "    </tr>\n",
       "  </tbody>\n",
       "</table>\n",
       "<p>5 rows × 21 columns</p>\n",
       "</div>"
      ],
      "text/plain": [
       "   year  month carrier       carrier_name airport  \\\n",
       "0  2022      5      9E  Endeavor Air Inc.     ABE   \n",
       "1  2022      5      9E  Endeavor Air Inc.     ABY   \n",
       "2  2022      5      9E  Endeavor Air Inc.     ACK   \n",
       "3  2022      5      9E  Endeavor Air Inc.     AEX   \n",
       "4  2022      5      9E  Endeavor Air Inc.     AGS   \n",
       "\n",
       "                                        airport_name  arr_flights  arr_del15  \\\n",
       "0  Allentown/Bethlehem/Easton, PA: Lehigh Valley ...        136.0        7.0   \n",
       "1             Albany, GA: Southwest Georgia Regional         91.0       16.0   \n",
       "2                  Nantucket, MA: Nantucket Memorial         19.0        2.0   \n",
       "3           Alexandria, LA: Alexandria International         88.0       14.0   \n",
       "4        Augusta, GA: Augusta Regional at Bush Field        181.0       19.0   \n",
       "\n",
       "   carrier_ct  weather_ct  ...  security_ct  late_aircraft_ct  arr_cancelled  \\\n",
       "0        5.95        0.00  ...          0.0              1.00            0.0   \n",
       "1        7.38        0.00  ...          0.0              6.09            0.0   \n",
       "2        0.13        0.00  ...          0.0              0.88            1.0   \n",
       "3        7.26        0.76  ...          0.0              1.64            0.0   \n",
       "4       13.84        0.00  ...          0.0              2.09            0.0   \n",
       "\n",
       "   arr_diverted  arr_delay  carrier_delay  weather_delay  nas_delay  \\\n",
       "0           0.0      255.0          222.0            0.0        4.0   \n",
       "1           0.0      884.0          351.0            0.0       81.0   \n",
       "2           0.0      138.0            4.0            0.0      106.0   \n",
       "3           0.0      947.0          585.0           35.0      125.0   \n",
       "4           0.0      808.0          662.0            0.0       87.0   \n",
       "\n",
       "   security_delay  late_aircraft_delay  \n",
       "0             0.0                 29.0  \n",
       "1             0.0                452.0  \n",
       "2             0.0                 28.0  \n",
       "3             0.0                202.0  \n",
       "4             0.0                 59.0  \n",
       "\n",
       "[5 rows x 21 columns]"
      ]
     },
     "execution_count": 16,
     "metadata": {},
     "output_type": "execute_result"
    }
   ],
   "source": [
    "# Visualize basic information about delay_data\n",
    "delay_data.head()"
   ]
  },
  {
   "cell_type": "code",
   "execution_count": 17,
   "metadata": {},
   "outputs": [
    {
     "name": "stdout",
     "output_type": "stream",
     "text": [
      "<class 'pandas.core.frame.DataFrame'>\n",
      "RangeIndex: 318017 entries, 0 to 318016\n",
      "Data columns (total 21 columns):\n",
      " #   Column               Non-Null Count   Dtype  \n",
      "---  ------               --------------   -----  \n",
      " 0   year                 318017 non-null  int64  \n",
      " 1   month                318017 non-null  int64  \n",
      " 2   carrier              318017 non-null  object \n",
      " 3   carrier_name         318017 non-null  object \n",
      " 4   airport              318017 non-null  object \n",
      " 5   airport_name         318017 non-null  object \n",
      " 6   arr_flights          317529 non-null  float64\n",
      " 7   arr_del15            317289 non-null  float64\n",
      " 8   carrier_ct           317529 non-null  float64\n",
      " 9   weather_ct           317529 non-null  float64\n",
      " 10  nas_ct               317529 non-null  float64\n",
      " 11  security_ct          317529 non-null  float64\n",
      " 12  late_aircraft_ct     317529 non-null  float64\n",
      " 13  arr_cancelled        317529 non-null  float64\n",
      " 14  arr_diverted         317529 non-null  float64\n",
      " 15  arr_delay            317529 non-null  float64\n",
      " 16  carrier_delay        317529 non-null  float64\n",
      " 17  weather_delay        317529 non-null  float64\n",
      " 18  nas_delay            317529 non-null  float64\n",
      " 19  security_delay       317529 non-null  float64\n",
      " 20  late_aircraft_delay  317529 non-null  float64\n",
      "dtypes: float64(15), int64(2), object(4)\n",
      "memory usage: 51.0+ MB\n"
     ]
    }
   ],
   "source": [
    "# Visualize information about the data types in the delay_data DataFrame\n",
    "delay_data.info()"
   ]
  },
  {
   "cell_type": "markdown",
   "metadata": {},
   "source": [
    "Based on 'non-null count' above, there appears to be missing data. We'll investigate this by acquiring counts of 'NA' values and making sure it matches 'NULL' values.\n",
    "\n",
    "Then, we can determine how much of the dataset is missing. It appears to be very minimal..."
   ]
  },
  {
   "cell_type": "code",
   "execution_count": 18,
   "metadata": {},
   "outputs": [
    {
     "data": {
      "text/plain": [
       "year                     0\n",
       "month                    0\n",
       "carrier                  0\n",
       "carrier_name             0\n",
       "airport                  0\n",
       "airport_name             0\n",
       "arr_flights            488\n",
       "arr_del15              728\n",
       "carrier_ct             488\n",
       "weather_ct             488\n",
       "nas_ct                 488\n",
       "security_ct            488\n",
       "late_aircraft_ct       488\n",
       "arr_cancelled          488\n",
       "arr_diverted           488\n",
       "arr_delay              488\n",
       "carrier_delay          488\n",
       "weather_delay          488\n",
       "nas_delay              488\n",
       "security_delay         488\n",
       "late_aircraft_delay    488\n",
       "dtype: int64"
      ]
     },
     "execution_count": 18,
     "metadata": {},
     "output_type": "execute_result"
    }
   ],
   "source": [
    "# Show missing/null data in each column\n",
    "\n",
    "delay_data.isna().sum()"
   ]
  },
  {
   "cell_type": "code",
   "execution_count": 19,
   "metadata": {},
   "outputs": [
    {
     "data": {
      "text/plain": [
       "year                   True\n",
       "month                  True\n",
       "carrier                True\n",
       "carrier_name           True\n",
       "airport                True\n",
       "airport_name           True\n",
       "arr_flights            True\n",
       "arr_del15              True\n",
       "carrier_ct             True\n",
       "weather_ct             True\n",
       "nas_ct                 True\n",
       "security_ct            True\n",
       "late_aircraft_ct       True\n",
       "arr_cancelled          True\n",
       "arr_diverted           True\n",
       "arr_delay              True\n",
       "carrier_delay          True\n",
       "weather_delay          True\n",
       "nas_delay              True\n",
       "security_delay         True\n",
       "late_aircraft_delay    True\n",
       "dtype: bool"
      ]
     },
     "execution_count": 19,
     "metadata": {},
     "output_type": "execute_result"
    }
   ],
   "source": [
    "# Last, we'll verify that the missing data is being captured correctly by pandas\n",
    "\n",
    "delay_data.isna().sum() == delay_data.isnull().sum()"
   ]
  },
  {
   "cell_type": "markdown",
   "metadata": {},
   "source": [
    "The values match, so now we can determine how much of the dataset is missing.\n",
    "\n",
    "Casually, 'arr_del15' is missing the most values, at 728. That equals less than one-quarter of 1% of all observations. (728/318017)"
   ]
  },
  {
   "cell_type": "code",
   "execution_count": 20,
   "metadata": {},
   "outputs": [
    {
     "data": {
      "text/plain": [
       "year                   0.000000\n",
       "month                  0.000000\n",
       "carrier                0.000000\n",
       "carrier_name           0.000000\n",
       "airport                0.000000\n",
       "airport_name           0.000000\n",
       "arr_flights            0.153451\n",
       "arr_del15              0.228919\n",
       "carrier_ct             0.153451\n",
       "weather_ct             0.153451\n",
       "nas_ct                 0.153451\n",
       "security_ct            0.153451\n",
       "late_aircraft_ct       0.153451\n",
       "arr_cancelled          0.153451\n",
       "arr_diverted           0.153451\n",
       "arr_delay              0.153451\n",
       "carrier_delay          0.153451\n",
       "weather_delay          0.153451\n",
       "nas_delay              0.153451\n",
       "security_delay         0.153451\n",
       "late_aircraft_delay    0.153451\n",
       "dtype: float64"
      ]
     },
     "execution_count": 20,
     "metadata": {},
     "output_type": "execute_result"
    }
   ],
   "source": [
    "# Calculate missing values as a percentage of overall dataset.\n",
    "\n",
    "delay_data.isna().sum() * 100 / len(delay_data)"
   ]
  },
  {
   "cell_type": "markdown",
   "metadata": {},
   "source": [
    "As expected, missing values are a small percentage, we'll drop those and proceed to exploring the remaining data further to determine some relationships."
   ]
  },
  {
   "cell_type": "code",
   "execution_count": 21,
   "metadata": {},
   "outputs": [
    {
     "data": {
      "text/plain": [
       "(317289, 21)"
      ]
     },
     "execution_count": 21,
     "metadata": {},
     "output_type": "execute_result"
    }
   ],
   "source": [
    "# drop 'NA' and make a new data frame 'No NA' to capture results. Check shape.\n",
    "# DropNA was also verified, but removed for readability. It was '0' across the board.\n",
    "\n",
    "delay_data_nona = delay_data.dropna()\n",
    "delay_data_nona.shape"
   ]
  },
  {
   "cell_type": "markdown",
   "metadata": {},
   "source": [
    "We are left with 317,289 observations. Let's get some basic information about the distribution of these observations and then seek to determine relationships. Below is an explanation of the columns, courtesy of Kaggle user ' BHAVANA' (https://www.kaggle.com/code/bhavanamaradani/usa-airline-delay-causes).\n",
    "\n",
    "*\"The data contains information of total arrived flights('arr_flights') of different carriers ('carrier_name') in a given month and year at a particular airport ('airport')*\n",
    "\n",
    "*The column (arr_del15) is the total delay caused by five different causes for delay (carrier_ct, weather_ct,nas_ct, security_ct, late_aircraft_ct)*\n",
    "\n",
    "*Similarly,(arr_delay) is the total delay caused by five different causes for delay (carrier_delay, weather_delay, nas_delay, security_delay ,late_aircraft_delay)*\n",
    "\n",
    "*Though the columns 'arr_delay15' and 'arr_delay' convey similar information regarding the causes for delay. But, there is no clear infomation regarding the values and how they are connected.*\n",
    "\n",
    "*Since, it is given that the delay information is in minutes for delayed flights alone. My analysis is based on assumption that column 'arr_delay' is the total delay (in minutes) of a particular carrier in a given month and airport.\"*"
   ]
  },
  {
   "cell_type": "code",
   "execution_count": 22,
   "metadata": {},
   "outputs": [
    {
     "data": {
      "text/plain": [
       "<AxesSubplot: xlabel='year', ylabel='arr_del15'>"
      ]
     },
     "execution_count": 22,
     "metadata": {},
     "output_type": "execute_result"
    },
    {
     "data": {
      "image/png": "[encoded data removed]",
      "text/plain": [
       "<Figure size 640x480 with 1 Axes>"
      ]
     },
     "metadata": {},
     "output_type": "display_data"
    }
   ],
   "source": [
    "# Plot the total observations by year\n",
    "\n",
    "sns.lineplot(data=delay_data_nona, x='year', y='arr_del15', errorbar=None)"
   ]
  },
  {
   "cell_type": "code",
   "execution_count": 23,
   "metadata": {},
   "outputs": [
    {
     "data": {
      "text/plain": [
       "<AxesSubplot: xlabel='month', ylabel='arr_del15'>"
      ]
     },
     "execution_count": 23,
     "metadata": {},
     "output_type": "execute_result"
    },
    {
     "data": {
      "image/png": "[encoded data removed]",
      "text/plain": [
       "<Figure size 640x480 with 1 Axes>"
      ]
     },
     "metadata": {},
     "output_type": "display_data"
    }
   ],
   "source": [
    "# Now let's look at month\n",
    "\n",
    "sns.lineplot(data=delay_data_nona, x='month', y='arr_del15', errorbar=None)"
   ]
  },
  {
   "cell_type": "markdown",
   "metadata": {},
   "source": [
    "As one would expect, the amount of delays increases significantly during summer months and around the holiday season. There is also a noticeable dip in the year 2020 (expected).\n",
    "\n",
    "Next, we'll do some analysis to find possible linkages or relationships. I'll truncate this area."
   ]
  }
 ],
 "metadata": {
  "kernelspec": {
   "display_name": "Python 3.10.6 64-bit",
   "language": "python",
   "name": "python3"
  },
  "language_info": {
   "codemirror_mode": {
    "name": "ipython",
    "version": 3
   },
   "file_extension": ".py",
   "mimetype": "text/x-python",
   "name": "python",
   "nbconvert_exporter": "python",
   "pygments_lexer": "ipython3",
   "version": "3.10.6"
  },
  "orig_nbformat": 4,
  "vscode": {
   "interpreter": {
    "hash": "949777d72b0d2535278d3dc13498b2535136f6dfe0678499012e853ee9abcab1"
   }
  }
 },
 "nbformat": 4,
 "nbformat_minor": 2
}
